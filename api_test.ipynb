{
 "cells": [
  {
   "cell_type": "code",
   "execution_count": null,
   "metadata": {},
   "outputs": [],
   "source": [
    "import requests\n",
    "from pprint import pprint \n",
    "import json \n",
    "\n",
    "result = requests.get(url=\"https://valorant-api.com/v1/maps\")\n",
    "json_data = result.json()\n",
    "maps=[]\n",
    "for mapp in json_data['data']:\n",
    "    map_name=mapp['displayName']\n",
    "    maps.append(map_name)\n",
    "print(maps,len(maps))\n",
    "\n",
    "\n",
    "\n",
    "\n",
    "\n"
   ]
  },
  {
   "cell_type": "markdown",
   "metadata": {},
   "source": [
    "SAVING\n",
    "with open(\"map_dataset.json\", 'w', encoding='utf8') as file:\n",
    "    json.dump(json_data, file, ensure_ascii=False, indent=4)"
   ]
  },
  {
   "cell_type": "code",
   "execution_count": 8,
   "metadata": {},
   "outputs": [
    {
     "name": "stdout",
     "output_type": "stream",
     "text": [
      "I can't believe you have a city-wide geo dome... Truly a modern wonder.\n",
      "Attackers push down into the Defenders on this two-site map set in a vibrant, underwater city. Pearl is a geo-driven map with no mechanics. Take the fight through a compact mid or the longer range wings in our first map set in Omega Earth.\n"
     ]
    }
   ],
   "source": [
    "import requests\n",
    "from pprint import pprint \n",
    "import json \n",
    "import re\n",
    "from bs4 import BeautifulSoup\n",
    "map_name=\"Pearl\"\n",
    "result=requests.get(url=f\"https://valorant.fandom.com/wiki/{map_name}\").text\n",
    "soup = BeautifulSoup(result, 'lxml')\n",
    "descriptions_strings=soup.find_all('div',style=\"font-size:1.1em; padding-left: 0.6em; padding-top:1em; padding-bottom:1em; padding-right: 1em;\")\n",
    "for description in descriptions_strings:\n",
    "    text=description.find('i').get_text()\n",
    "    text = re.sub(r'https://.*?\\.mp3', '', text)\n",
    "    print(text)\n",
    "\n",
    "\n",
    "\n",
    "\n",
    "\n",
    "\n",
    "    "
   ]
  },
  {
   "cell_type": "markdown",
   "metadata": {},
   "source": [
    "map theme + agent audio\n",
    "map_sound=soup.find_all('span',class_='audio-button')\n",
    "for sound in map_sound:\n",
    "    audio_element=sound.find('audio')\n",
    "    if audio_element:\n",
    "        source=audio_element['src']\n",
    "        print(source,type(source))"
   ]
  },
  {
   "cell_type": "markdown",
   "metadata": {},
   "source": [
    "\n",
    "descriptions_strings=soup.find_all('div',style=\"font-size:1.1em; padding-left: 0.6em; padding-top:1em; padding-bottom:1em; padding-right: 1em;\")\n",
    "for description in descriptions_strings:\n",
    "    text=description.find('i').get_text()\n",
    "    text = re.sub(r'https://.*?\\.mp3', '', text)\n",
    "    print(text)\n",
    "\n"
   ]
  },
  {
   "cell_type": "markdown",
   "metadata": {},
   "source": [
    "\n",
    "information=soup.find(\"section\",class_=\"pi-item pi-group pi-border-color pi-collapse pi-collapse-open\")\n",
    "location=information.find('div',class_='pi-data-value pi-font').text\n",
    "location_image=information.find('div',class_='pi-data-value pi-font').find('img')['src']\n",
    "print(location_image,'\\n',location)"
   ]
  },
  {
   "cell_type": "markdown",
   "metadata": {},
   "source": [
    "LOCATION + LOCATION IMAGE + ADDED DATE\n",
    "information=soup.find(\"section\",class_=\"pi-item pi-group pi-border-color pi-collapse pi-collapse-open\")\n",
    "location=information.find('div',class_='pi-data-value pi-font').text\n",
    "location_image=information.find('div',class_='pi-data-value pi-font').find('img')['src']\n",
    "added_div = soup.find('div', {'data-source': 'added'})\n",
    "added_date = added_div.find('div', {'class': 'pi-data-value pi-font'}).text.strip()\n",
    "print(added_date)"
   ]
  }
 ],
 "metadata": {
  "kernelspec": {
   "display_name": "Python 3",
   "language": "python",
   "name": "python3"
  },
  "language_info": {
   "codemirror_mode": {
    "name": "ipython",
    "version": 3
   },
   "file_extension": ".py",
   "mimetype": "text/x-python",
   "name": "python",
   "nbconvert_exporter": "python",
   "pygments_lexer": "ipython3",
   "version": "3.11.4"
  },
  "orig_nbformat": 4
 },
 "nbformat": 4,
 "nbformat_minor": 2
}
